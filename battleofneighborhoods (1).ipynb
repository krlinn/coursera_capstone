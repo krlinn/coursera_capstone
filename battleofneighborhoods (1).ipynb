{
 "cells": [
  {
   "cell_type": "markdown",
   "metadata": {},
   "source": [
    "# Introduction\n",
    "There are so many different areas that a prospective business owner must take into account when deciding where they should start building. A huge factor that they should be taking into account is the population and average amount of spending money the areas that they are looking at has so that the business can price their products in the best way possible. They should also choose areas with higher populations if the business is a restaurant or something that depends on people physically coming in. If the business is going to be the head quarters of a larger corporation that does not actually cater to people in person, they may want to go for a less populated area.\n",
    "# DATA:\n",
    "I will be using the Toronto 2016 census data that is available online at https://www.toronto.ca/city-government/data-research-maps/open-data/open-data-catalogue/#8c732154-5012-9afe-d0cd-ba3ffc813d5a, and then accompany this data with a geographical map that I will be using Foursquare location data to show areas with varying levels of population and income. \n",
    "# Methodology\n",
    "I read the data into a pandas data frame and cleaned it by transposing it and only taking out all of the neighborhoods in Toronto. I then found the data that I wanted to use - the population and average income per neighborhood in 2016. I created a data frame with just this information in it. Then I found the latitude and longitude for each neighborhood using geopy and then used folium to create a map with each of these neighborhoods shown in a different color and labeled with their population and average income. Past this, I could use foursquare data to find the types of venues that are already in these areas, and do a clustering analysis to find what type of business seems to be best in each neighborhood.\n",
    "# Results\n",
    "The results I got can be seen in the map in the notebook at https://github.com/krlinn/coursera_capstone/blob/master/notebookbattle.ipynb, showing the results for each neighborhood. \n",
    "\n",
    "# Discussion\n",
    "I found doing this activity quite interesting, and I would open something like a restaurant or grocery store in New Toronto since it has the highest population and highest average income. I would open some type of factory in Victoria Village since it has the lowest population and lowest average income so the cost of land there probably is not as much as the other neighborhoods.\n",
    "# Conclusion\n",
    "Thank you for following along with my report, and if you plan on opening a business in Toronto, feel free to use this data!"
   ]
  }
 ],
 "metadata": {
  "kernelspec": {
   "display_name": "Python",
   "language": "python",
   "name": "conda-env-python-py"
  },
  "language_info": {
   "codemirror_mode": {
    "name": "ipython",
    "version": 3
   },
   "file_extension": ".py",
   "mimetype": "text/x-python",
   "name": "python",
   "nbconvert_exporter": "python",
   "pygments_lexer": "ipython3",
   "version": "3.6.10"
  }
 },
 "nbformat": 4,
 "nbformat_minor": 4
}
